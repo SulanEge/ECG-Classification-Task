{
 "cells": [
  {
   "cell_type": "markdown",
   "id": "36fed773",
   "metadata": {},
   "source": [
    "M507 Individual Final Project\n",
    "\n",
    "ECG Classification Task\n",
    "\n",
    "Student ID: GH1019250"
   ]
  },
  {
   "cell_type": "markdown",
   "id": "848e1cb0",
   "metadata": {},
   "source": [
    "# Introduction\n",
    "\n",
    "Electrocardiogram (ECG) is a simple graphic where you can check the rhythm of the heart via electrical activity. Cardiologists use ECGs to detect health problems like arrhythmias, coronary heart disease, heart attacks and cardiomyopathy. The changes in the electrical activity in the heart, can be detected by professionals. On the other hand, this ECGs can be represented in a dataframe easily by sampling.\n",
    "\n",
    "With the help of developing deep learning technics, this sampled ECGs can be used to predict the possible heart diseases. In this project, a Convolutional Neural Network (CNN) will be used to predict the class of the given ECG. To find the best model, different experiments will be conducted during the study. These experiments will be mainly about changing the layers, number of filters and layer sizes of CNN.\n",
    "\n",
    "In this task, an ECG Classification with 5 labels have been conducted. The dataset used in the project is the MIT-BIH Arrhythmia Dataset. The Dataset has 109.444 samples in total, with a sampling rate of 125Hz.\n",
    "\n",
    "The classes of the label frame is as follows:\n",
    "\n",
    "Classes: ['N': 0, 'S': 1, 'V': 2, 'F': 3, 'Q': 4]\n",
    "\n",
    "Note: You can reach the dataset from the following link: https://www.kaggle.com/datasets/shayanfazeli/heartbeat"
   ]
  },
  {
   "cell_type": "markdown",
   "id": "3cb21b5c",
   "metadata": {},
   "source": [
    "# Building the Pipeline\n",
    "\n",
    "## Loading Libraries\n",
    "\n",
    "We are going to import the libraries and functions which will be used during the study. Some general libraries will be used in this project, such as pandas, numpy, seaborn and also some special lilbraries from tensorflow will be used to create our CNN."
   ]
  },
  {
   "cell_type": "code",
   "execution_count": 52,
   "id": "6fb93285",
   "metadata": {},
   "outputs": [],
   "source": [
    "import pandas as pd\n",
    "import numpy as np\n",
    "\n",
    "import seaborn as sns\n",
    "import matplotlib.pyplot as plt\n",
    "\n",
    "from sklearn.model_selection import train_test_split\n",
    "\n",
    "from sklearn.ensemble import RandomForestClassifier\n",
    "from sklearn.metrics import classification_report, confusion_matrix\n",
    "\n",
    "from imblearn.over_sampling import RandomOverSampler\n",
    "from imblearn.under_sampling import RandomUnderSampler\n",
    "\n",
    "from tensorflow.keras import Sequential\n",
    "from tensorflow.keras.layers import Flatten, Dense, Conv1D, MaxPool1D, Dropout, BatchNormalization, Input\n",
    "from tensorflow.keras.utils import to_categorical\n",
    "from keras.callbacks import EarlyStopping\n",
    "\n",
    "import warnings\n",
    "warnings.filterwarnings('ignore')"
   ]
  },
  {
   "cell_type": "markdown",
   "id": "3a863889",
   "metadata": {},
   "source": [
    "## Importing dataset\n",
    "\n",
    "Our dataset is consisting of two datasets where train and test datasets are splitted. We are going to use read_csv from pandas to import our datasets."
   ]
  },
  {
   "cell_type": "code",
   "execution_count": 42,
   "id": "c3f5ac88",
   "metadata": {},
   "outputs": [
    {
     "name": "stdout",
     "output_type": "stream",
     "text": [
      "Shape of the train dataset is: (87553, 188) \n",
      "Shape of the test dataset is: (21891, 188)\n"
     ]
    }
   ],
   "source": [
    "df_train = pd.read_csv('mitbih_train.csv')\n",
    "df_test = pd.read_csv('mitbih_test.csv')\n",
    "print(f'Shape of the train dataset is: {df_train.shape} \\n\\\n",
    "Shape of the test dataset is: {df_test.shape}')"
   ]
  },
  {
   "cell_type": "markdown",
   "id": "7906743c",
   "metadata": {},
   "source": [
    "## Target Label\n",
    "\n",
    "Our target label is the last column and has the values of classes 0, 1, 2, 3 and 4. With using iloc and the index of the column, which is 187 in our case, we can easily preview the target label."
   ]
  },
  {
   "cell_type": "code",
   "execution_count": 43,
   "id": "8686bbb6",
   "metadata": {},
   "outputs": [
    {
     "data": {
      "text/plain": [
       "0    0.0\n",
       "1    0.0\n",
       "2    0.0\n",
       "3    0.0\n",
       "4    0.0\n",
       "Name: 0.000000000000000000e+00.88, dtype: float64"
      ]
     },
     "execution_count": 43,
     "metadata": {},
     "output_type": "execute_result"
    }
   ],
   "source": [
    "df_train.iloc[:, 187].head()"
   ]
  },
  {
   "cell_type": "markdown",
   "id": "04800eb1",
   "metadata": {},
   "source": [
    "Renaming target feature as Classes in both test and train sets."
   ]
  },
  {
   "cell_type": "code",
   "execution_count": 44,
   "id": "bce9e7c1",
   "metadata": {},
   "outputs": [],
   "source": [
    "df_train.rename(columns={df_train.columns[187]:\"Classes\"}, inplace=True)\n",
    "df_test.rename(columns={df_test.columns[187]:\"Classes\"}, inplace=True)"
   ]
  },
  {
   "cell_type": "markdown",
   "id": "909c6a0e",
   "metadata": {},
   "source": [
    "In this phase, we want to see the distribution of the target label. With the help of seaborn, we will visualize the number of incidents for each label."
   ]
  },
  {
   "cell_type": "code",
   "execution_count": 45,
   "id": "85c6f281",
   "metadata": {},
   "outputs": [
    {
     "data": {
      "image/png": "[encoded data removed]",
      "text/plain": [
       "<Figure size 576x576 with 1 Axes>"
      ]
     },
     "metadata": {},
     "output_type": "display_data"
    }
   ],
   "source": [
    "sns.set_theme(style=\"dark\")\n",
    "sns.set(rc={'figure.figsize':(8,8)})\n",
    "ax = sns.countplot(x=\"Classes\", data=df_train)\n",
    "for p in ax.patches:\n",
    "   ax.annotate('{:.0f}'.format(p.get_height()), (p.get_x()+0.2, p.get_height()+0.01))"
   ]
  },
  {
   "cell_type": "markdown",
   "id": "cc174341",
   "metadata": {},
   "source": [
    "Now we are going to check for null values using isna() method for both test and train datasets."
   ]
  },
  {
   "cell_type": "code",
   "execution_count": 46,
   "id": "682e3356",
   "metadata": {},
   "outputs": [
    {
     "data": {
      "text/plain": [
       "9.779411554336547852e-01       0\n",
       "0.000000000000000000e+00.30    0\n",
       "0.000000000000000000e+00.21    0\n",
       "0.000000000000000000e+00.22    0\n",
       "0.000000000000000000e+00.23    0\n",
       "dtype: int64"
      ]
     },
     "execution_count": 46,
     "metadata": {},
     "output_type": "execute_result"
    }
   ],
   "source": [
    "df_train.isna().sum().sort_values(ascending=False).head()"
   ]
  },
  {
   "cell_type": "code",
   "execution_count": 47,
   "id": "7b8232b2",
   "metadata": {},
   "outputs": [
    {
     "data": {
      "text/plain": [
       "1.000000000000000000e+00      0\n",
       "0.000000000000000000e+00.7    0\n",
       "4.958677664399147034e-02.2    0\n",
       "4.752065986394882202e-02.2    0\n",
       "6.404958665370941162e-02      0\n",
       "dtype: int64"
      ]
     },
     "execution_count": 47,
     "metadata": {},
     "output_type": "execute_result"
    }
   ],
   "source": [
    "df_test.isna().sum().sort_values(ascending=False).head()"
   ]
  },
  {
   "cell_type": "markdown",
   "id": "906a3d53",
   "metadata": {},
   "source": [
    "To seperate the target label from the other features, we are using drop() method."
   ]
  },
  {
   "cell_type": "code",
   "execution_count": 8,
   "id": "1bb5a7dc",
   "metadata": {},
   "outputs": [],
   "source": [
    "x_train_in = df_train.drop([\"Classes\"], axis=1)\n",
    "y_train_in = df_train[\"Classes\"]\n",
    "x_test = df_test.drop([\"Classes\"], axis=1)\n",
    "y_test = df_test[\"Classes\"]"
   ]
  },
  {
   "cell_type": "markdown",
   "id": "7e87dade",
   "metadata": {},
   "source": [
    "# Balancing Target Data\n",
    "\n",
    "In this phase, we are going to run some experiments with different balance points in our dataset. To find out which balance point is better, we are going to use Random Forest Classifier and Classification Report. We are going to use RandomOverSampler and RandomUnderSampler to balance the data. Some other methods are also examined, their results can be seen in CNN experiments. \n",
    "\n",
    "To start with the experiments, we are going to apply RandomForestClassifier to our dataset before balancing. This will be our base model. Afterwards, we are going to balance our dataset at 15.000, 20.0000 and 25.000. According to the results, we are going to continue with the best choice."
   ]
  },
  {
   "cell_type": "markdown",
   "id": "4eb53da2",
   "metadata": {},
   "source": [
    "## Base Model\n",
    "\n",
    "Our Base Model will be a simple Random Forest Classifier trained with untouched data. We are going to observe how balance points changing our accuracy score."
   ]
  },
  {
   "cell_type": "code",
   "execution_count": 9,
   "id": "0531981c",
   "metadata": {},
   "outputs": [
    {
     "name": "stdout",
     "output_type": "stream",
     "text": [
      "              precision    recall  f1-score   support\n",
      "\n",
      "         0.0       0.97      1.00      0.99     18117\n",
      "         1.0       0.99      0.59      0.74       556\n",
      "         2.0       0.98      0.88      0.93      1448\n",
      "         3.0       0.88      0.62      0.72       162\n",
      "         4.0       1.00      0.94      0.97      1608\n",
      "\n",
      "    accuracy                           0.97     21891\n",
      "   macro avg       0.96      0.81      0.87     21891\n",
      "weighted avg       0.97      0.97      0.97     21891\n",
      "\n"
     ]
    }
   ],
   "source": [
    "rf = RandomForestClassifier()\n",
    "base_model = rf.fit(x_train_in, y_train_in)\n",
    "base_prediction = base_model.predict(x_test)\n",
    "\n",
    "print(classification_report(y_test, base_prediction))"
   ]
  },
  {
   "cell_type": "markdown",
   "id": "79e58c34",
   "metadata": {},
   "source": [
    "## Balance Point: 25.000 samples\n",
    "\n",
    "In this part we are going to undersample the target label with the score of 0, and oversample the rest of the targets to reach the balance point of 25.000 samples for each label. Then, we are going to get classification report to compare our results with the base model and other models."
   ]
  },
  {
   "cell_type": "code",
   "execution_count": 10,
   "id": "d6ae8f73",
   "metadata": {},
   "outputs": [],
   "source": [
    "over25k = RandomOverSampler(sampling_strategy={1:25000, 2:25000, 3:25000, 4:25000}, random_state=13)\n",
    "under25k = RandomUnderSampler(sampling_strategy={0:25000}, random_state=13)\n",
    "x_over25k, y_over25k = over25k.fit_resample(x_train_in, y_train_in)\n",
    "x_combined_25k, y_combined_25k = under25k.fit_resample(x_over25k, y_over25k)"
   ]
  },
  {
   "cell_type": "code",
   "execution_count": 11,
   "id": "c7f18352",
   "metadata": {},
   "outputs": [
    {
     "name": "stdout",
     "output_type": "stream",
     "text": [
      "              precision    recall  f1-score   support\n",
      "\n",
      "         0.0       0.98      0.99      0.99     18117\n",
      "         1.0       0.86      0.72      0.78       556\n",
      "         2.0       0.95      0.93      0.94      1448\n",
      "         3.0       0.81      0.69      0.75       162\n",
      "         4.0       0.98      0.97      0.98      1608\n",
      "\n",
      "    accuracy                           0.98     21891\n",
      "   macro avg       0.92      0.86      0.89     21891\n",
      "weighted avg       0.98      0.98      0.98     21891\n",
      "\n"
     ]
    }
   ],
   "source": [
    "equ25k_model = rf.fit(x_combined_25k, y_combined_25k)\n",
    "equ25k_prediction = equ25k_model.predict(x_test)\n",
    "\n",
    "print(classification_report(y_test, equ25k_prediction))"
   ]
  },
  {
   "cell_type": "markdown",
   "id": "5c8c60a2",
   "metadata": {},
   "source": [
    "## Balance Point: 20.000 samples\n",
    "\n",
    "Same process will be repeated for the balance point of 20.000 samples."
   ]
  },
  {
   "cell_type": "code",
   "execution_count": 12,
   "id": "6a680cbd",
   "metadata": {},
   "outputs": [],
   "source": [
    "over20k = RandomOverSampler(sampling_strategy={1:20000, 2:20000, 3:20000, 4:20000}, random_state=13)\n",
    "under20k = RandomUnderSampler(sampling_strategy={0:20000}, random_state=13)\n",
    "x_over20k, y_over20k = over20k.fit_resample(x_train_in, y_train_in)\n",
    "x_combined_20k, y_combined_20k = under20k.fit_resample(x_over20k, y_over20k)"
   ]
  },
  {
   "cell_type": "code",
   "execution_count": 13,
   "id": "85b17a72",
   "metadata": {},
   "outputs": [
    {
     "name": "stdout",
     "output_type": "stream",
     "text": [
      "              precision    recall  f1-score   support\n",
      "\n",
      "         0.0       0.98      0.99      0.99     18117\n",
      "         1.0       0.85      0.74      0.79       556\n",
      "         2.0       0.94      0.93      0.94      1448\n",
      "         3.0       0.80      0.73      0.77       162\n",
      "         4.0       0.98      0.97      0.97      1608\n",
      "\n",
      "    accuracy                           0.98     21891\n",
      "   macro avg       0.91      0.87      0.89     21891\n",
      "weighted avg       0.98      0.98      0.98     21891\n",
      "\n"
     ]
    }
   ],
   "source": [
    "equ20k_model = rf.fit(x_combined_20k, y_combined_20k)\n",
    "equ20k_prediction = equ20k_model.predict(x_test)\n",
    "\n",
    "print(classification_report(y_test, equ20k_prediction))"
   ]
  },
  {
   "cell_type": "markdown",
   "id": "c2ae23e1",
   "metadata": {},
   "source": [
    "## Balance Point: 15.000 samples\n",
    "\n",
    "Same process will be repeated for the balance point of 15.000 samples."
   ]
  },
  {
   "cell_type": "code",
   "execution_count": 14,
   "id": "0d2a5be5",
   "metadata": {},
   "outputs": [],
   "source": [
    "over15k = RandomOverSampler(sampling_strategy={1:15000, 2:15000, 3:15000, 4:15000}, random_state=13)\n",
    "under15k = RandomUnderSampler(sampling_strategy={0:15000}, random_state=13)\n",
    "x_over15k, y_over15k = over15k.fit_resample(x_train_in, y_train_in)\n",
    "x_combined_15k, y_combined_15k = under15k.fit_resample(x_over15k, y_over15k)"
   ]
  },
  {
   "cell_type": "code",
   "execution_count": 15,
   "id": "34bd7cfb",
   "metadata": {},
   "outputs": [
    {
     "name": "stdout",
     "output_type": "stream",
     "text": [
      "              precision    recall  f1-score   support\n",
      "\n",
      "         0.0       0.99      0.99      0.99     18117\n",
      "         1.0       0.80      0.76      0.78       556\n",
      "         2.0       0.92      0.94      0.93      1448\n",
      "         3.0       0.77      0.75      0.76       162\n",
      "         4.0       0.98      0.97      0.97      1608\n",
      "\n",
      "    accuracy                           0.97     21891\n",
      "   macro avg       0.89      0.88      0.89     21891\n",
      "weighted avg       0.97      0.97      0.97     21891\n",
      "\n"
     ]
    }
   ],
   "source": [
    "equ15k_model = rf.fit(x_combined_15k, y_combined_15k)\n",
    "equ15k_prediction = equ15k_model.predict(x_test)\n",
    "\n",
    "print(classification_report(y_test, equ15k_prediction))"
   ]
  },
  {
   "cell_type": "markdown",
   "id": "584581e4",
   "metadata": {},
   "source": [
    "According to the results, 25.000 samples has the best results. But on the other hand, 20.000 samples also has similar scores. In this case we are going to continue with 20.000 balance point to avoid more syntetic datapoints."
   ]
  },
  {
   "cell_type": "markdown",
   "id": "e51b75d3",
   "metadata": {},
   "source": [
    "# CNN\n",
    "\n",
    "Our data is ready to continue training our Deep Learning Algorithm. We are going to start with reshaping our data to fit our model. And also we are going to use to_categorical from keras to ready our target label."
   ]
  },
  {
   "cell_type": "code",
   "execution_count": 16,
   "id": "7bab633c",
   "metadata": {},
   "outputs": [],
   "source": [
    "x_train = np.array(x_combined_20k).reshape(x_combined_20k.shape[0], x_combined_20k.shape[1], 1)\n",
    "x_test = np.array(x_test).reshape(x_test.shape[0], x_test.shape[1], 1)\n",
    "y_train = to_categorical(y_combined_20k, 5)\n",
    "y_test = to_categorical(y_test, 5)"
   ]
  },
  {
   "cell_type": "markdown",
   "id": "765a632c",
   "metadata": {},
   "source": [
    "## Creating the Model\n",
    "\n",
    "Since our data is ready for training, now we are going to create our model. Different experiments are conducted with the changes in this model, by changing the layers, layer sizes and number of filters. \n",
    "\n",
    "Since our samples are represented in a linear form, we are going to use 1 Dimensional attributes while creating our model.\n",
    "\n",
    "Following the best model is represented. Conv1D is a 1 dimension convolution layer, which creates a convolution kernel with the given size and convolves the input with the given number of filters. BatchNormalization used afterwards to accelerate and stabilize the model by normalizing. After that, we are using MaxPool1D to downsample our data created by convolution. This steps repeat 2 more times with different number of filters.\n",
    "\n",
    "Then in the end, we are getting the outputs with 2 Dense layers. In the last layer the size is equal to our number of classes which is 5.\n",
    "\n",
    "We used relu activation function in our convolutions and first dense layer. Relu function, basically gives the output if the input is positive. In the last dense layer, we used softmax as the activation function. Softmax is used for multiclass tasks and normalizes the output according to the probability distrubition of given classes."
   ]
  },
  {
   "cell_type": "code",
   "execution_count": 48,
   "id": "f012060e",
   "metadata": {},
   "outputs": [
    {
     "name": "stdout",
     "output_type": "stream",
     "text": [
      "Model: \"sequential_1\"\n",
      "_________________________________________________________________\n",
      "Layer (type)                 Output Shape              Param #   \n",
      "=================================================================\n",
      "conv1d_3 (Conv1D)            (None, 185, 128)          512       \n",
      "_________________________________________________________________\n",
      "batch_normalization_4 (Batch (None, 185, 128)          512       \n",
      "_________________________________________________________________\n",
      "max_pooling1d_3 (MaxPooling1 (None, 92, 128)           0         \n",
      "_________________________________________________________________\n",
      "conv1d_4 (Conv1D)            (None, 90, 64)            24640     \n",
      "_________________________________________________________________\n",
      "batch_normalization_5 (Batch (None, 90, 64)            256       \n",
      "_________________________________________________________________\n",
      "max_pooling1d_4 (MaxPooling1 (None, 44, 64)            0         \n",
      "_________________________________________________________________\n",
      "conv1d_5 (Conv1D)            (None, 42, 128)           24704     \n",
      "_________________________________________________________________\n",
      "batch_normalization_6 (Batch (None, 42, 128)           512       \n",
      "_________________________________________________________________\n",
      "max_pooling1d_5 (MaxPooling1 (None, 20, 128)           0         \n",
      "_________________________________________________________________\n",
      "flatten_1 (Flatten)          (None, 2560)              0         \n",
      "_________________________________________________________________\n",
      "dropout_1 (Dropout)          (None, 2560)              0         \n",
      "_________________________________________________________________\n",
      "batch_normalization_7 (Batch (None, 2560)              10240     \n",
      "_________________________________________________________________\n",
      "dense_2 (Dense)              (None, 32)                81952     \n",
      "_________________________________________________________________\n",
      "dense_3 (Dense)              (None, 5)                 165       \n",
      "=================================================================\n",
      "Total params: 143,493\n",
      "Trainable params: 137,733\n",
      "Non-trainable params: 5,760\n",
      "_________________________________________________________________\n"
     ]
    }
   ],
   "source": [
    "input_shape=(x_train.shape[1],1)\n",
    "\n",
    "model = Sequential()\n",
    "\n",
    "model.add(Input(shape=input_shape))\n",
    "model.add(Conv1D(128, kernel_size=(3,), activation=\"relu\"))\n",
    "model.add(BatchNormalization())\n",
    "model.add(MaxPool1D(pool_size=(3,), strides=2))\n",
    "model.add(Conv1D(64, kernel_size=(3,), activation=\"relu\"))\n",
    "model.add(BatchNormalization())\n",
    "model.add(MaxPool1D(pool_size=(3,), strides=2))\n",
    "model.add(Conv1D(128, kernel_size=(3,), activation=\"relu\"))\n",
    "model.add(BatchNormalization())\n",
    "model.add(MaxPool1D(pool_size=(3,), strides=2))\n",
    "model.add(Flatten())\n",
    "model.add(Dropout(0.5))\n",
    "model.add(BatchNormalization())\n",
    "model.add(Dense(32, activation=\"relu\"))\n",
    "model.add(Dense(5, activation=\"softmax\"))\n",
    "          \n",
    "model.summary()"
   ]
  },
  {
   "cell_type": "markdown",
   "id": "7a6e4f26",
   "metadata": {},
   "source": [
    "In the summary, we can see that how many parameters we have for each layer. And also the total number of parameters, trainable parameters and non-trainable parameters.\n",
    "\n",
    "Following, we are going to run our model with the given parameters. To start with, we are going to call an early stopping to avoid overfitting. This early stopping will monitor validation loss, and will stop the algorithm early if necessary. When we are compiling our model, we are using Adam Optimization. To calculate the loss we are going to check categorical crossentropy and we want to see accuracy as the score of the model. \n",
    "\n",
    "History is to keep track of our loss and accuracy scores in both test and train sets. For this purpose, we are giving our model our train sets as input and test sets as validation data. "
   ]
  },
  {
   "cell_type": "code",
   "execution_count": 49,
   "id": "ab804f3a",
   "metadata": {},
   "outputs": [
    {
     "name": "stdout",
     "output_type": "stream",
     "text": [
      "Epoch 1/33\n",
      "3125/3125 [==============================] - 57s 18ms/step - loss: 0.3389 - accuracy: 0.8773 - val_loss: 0.2649 - val_accuracy: 0.9060\n",
      "Epoch 2/33\n",
      "3125/3125 [==============================] - 56s 18ms/step - loss: 0.1809 - accuracy: 0.9345 - val_loss: 0.2756 - val_accuracy: 0.8973\n",
      "Epoch 3/33\n",
      "3125/3125 [==============================] - 57s 18ms/step - loss: 0.1407 - accuracy: 0.9492 - val_loss: 0.2175 - val_accuracy: 0.9227\n",
      "Epoch 4/33\n",
      "3125/3125 [==============================] - 66s 21ms/step - loss: 0.1174 - accuracy: 0.9574 - val_loss: 0.1956 - val_accuracy: 0.9322\n",
      "Epoch 5/33\n",
      "3125/3125 [==============================] - 67s 22ms/step - loss: 0.1033 - accuracy: 0.9637 - val_loss: 0.1502 - val_accuracy: 0.9487\n",
      "Epoch 6/33\n",
      "3125/3125 [==============================] - 56s 18ms/step - loss: 0.0935 - accuracy: 0.9672 - val_loss: 0.1458 - val_accuracy: 0.9548\n",
      "Epoch 7/33\n",
      "3125/3125 [==============================] - 58s 19ms/step - loss: 0.0864 - accuracy: 0.9696 - val_loss: 0.1301 - val_accuracy: 0.9612\n",
      "Epoch 8/33\n",
      "3125/3125 [==============================] - 54s 17ms/step - loss: 0.0781 - accuracy: 0.9724 - val_loss: 0.1222 - val_accuracy: 0.9645\n",
      "Epoch 9/33\n",
      "3125/3125 [==============================] - 49s 16ms/step - loss: 0.0753 - accuracy: 0.9735 - val_loss: 0.1156 - val_accuracy: 0.9672\n",
      "Epoch 10/33\n",
      "3125/3125 [==============================] - 50s 16ms/step - loss: 0.0698 - accuracy: 0.9753 - val_loss: 0.1328 - val_accuracy: 0.9593\n",
      "Epoch 11/33\n",
      "3125/3125 [==============================] - 46s 15ms/step - loss: 0.0689 - accuracy: 0.9758 - val_loss: 0.1263 - val_accuracy: 0.9665\n",
      "Epoch 12/33\n",
      "3125/3125 [==============================] - 46s 15ms/step - loss: 0.0627 - accuracy: 0.9786 - val_loss: 0.1539 - val_accuracy: 0.9572\n",
      "Epoch 13/33\n",
      "3125/3125 [==============================] - 45s 15ms/step - loss: 0.0597 - accuracy: 0.9795 - val_loss: 0.1458 - val_accuracy: 0.9589\n",
      "Epoch 14/33\n",
      "3125/3125 [==============================] - 47s 15ms/step - loss: 0.0582 - accuracy: 0.9801 - val_loss: 0.1230 - val_accuracy: 0.9667\n"
     ]
    }
   ],
   "source": [
    "callbacks = [EarlyStopping(monitor='val_loss', patience=5)]\n",
    "model.compile(optimizer='adam', loss='categorical_crossentropy', metrics=['accuracy'])\n",
    "history = model.fit(x_train, y_train, epochs=33, callbacks=callbacks, validation_data=(x_test, y_test))"
   ]
  },
  {
   "cell_type": "markdown",
   "id": "eb6b56e8",
   "metadata": {},
   "source": [
    "Our model stopped early at the 14th Epoch because of our command. The experiments conducted are listed as follows.\n",
    "\n",
    "## Experiments\n",
    "\n",
    "### Smote+Near Miss instead of Random Over and Under Sampler\n",
    "The experiments started with only 1 batch normalization after dropout layer. The first experiments conducted with 64-64-64 Convolution Filters and 64-32-64 Convolution Filters. The validation accuracy scores are 0.7490 and 0.7963 respectively.\n",
    "\n",
    "### Random Over and Under Sampler\n",
    "\n",
    "The experiment conducted with 64-32-64, 64-128-64, 16-32-64, 128-64-128 and 128-64-32 Convolution Filters. The accuracy scores for validation are 0.9210, 0.9297, 0.9126, 0.9437 and 0.8714. 128-64-128 Convolutional Filters are kept for the future experiments.\n",
    "\n",
    "### Adding Batch Normalization Layers\n",
    "\n",
    "With 2 additional batch normalization layers, the algorithm started to work faster and our accuracy score has increased to 0.9501.\n",
    "\n",
    "### Changing Number of Filters in Dense Layer\n",
    "\n",
    "The experiments conducted with 32, 64 and 128 filters. Accuracy scores of the models are 0.9667, 0.9501 and 0.9323 respectively. \n",
    "\n",
    "With this last scores, we reach our best model with the validation accuracy score of 0.9667."
   ]
  },
  {
   "cell_type": "markdown",
   "id": "fbf01b81",
   "metadata": {},
   "source": [
    "# Results\n",
    "\n",
    "## Training Accuracy vs Validation Accuracy\n",
    "\n",
    "To examine our accuracy scores in the end of each epoch for both training and validation sets, we are going to use the history variable that we have created. "
   ]
  },
  {
   "cell_type": "code",
   "execution_count": 50,
   "id": "f996a1f4",
   "metadata": {},
   "outputs": [
    {
     "name": "stdout",
     "output_type": "stream",
     "text": [
      "685/685 - 4s - loss: 0.1230 - accuracy: 0.9667\n"
     ]
    },
    {
     "data": {
      "image/png": "[encoded data removed]",
      "text/plain": [
       "<Figure size 576x576 with 1 Axes>"
      ]
     },
     "metadata": {},
     "output_type": "display_data"
    }
   ],
   "source": [
    "plt.plot(history.history['accuracy'], label='accuracy')\n",
    "plt.plot(history.history['val_accuracy'], label = 'val_accuracy')\n",
    "plt.xlabel('Epoch')\n",
    "plt.ylabel('Accuracy')\n",
    "plt.ylim([0.5, 1])\n",
    "plt.legend(loc='lower right')\n",
    "\n",
    "test_loss, test_acc = model.evaluate(x_test, y_test, verbose=2)"
   ]
  },
  {
   "cell_type": "markdown",
   "id": "1ffb3740",
   "metadata": {},
   "source": [
    "We can see that our train and validation accuracy scores are close to each other and moving nearly parallel. This shows us our training is successful and we have a high accuracy score which is near to 0.97. "
   ]
  },
  {
   "cell_type": "markdown",
   "id": "97d7a4e0",
   "metadata": {},
   "source": [
    "## Training Loss vs Validation Loss\n",
    "\n",
    "We are going to see the difference between training and validation loss values. This will give us information if our model is overfitting or not. For this purpose, we are going to use our history variable again."
   ]
  },
  {
   "cell_type": "code",
   "execution_count": 51,
   "id": "8f8735b9",
   "metadata": {},
   "outputs": [
    {
     "name": "stdout",
     "output_type": "stream",
     "text": [
      "685/685 - 4s - loss: 0.1230 - accuracy: 0.9667\n"
     ]
    },
    {
     "data": {
      "image/png": "[encoded data removed]",
      "text/plain": [
       "<Figure size 576x576 with 1 Axes>"
      ]
     },
     "metadata": {},
     "output_type": "display_data"
    }
   ],
   "source": [
    "plt.plot(history.history['loss'], label='loss')\n",
    "plt.plot(history.history['val_loss'], label = 'val_loss')\n",
    "plt.xlabel('Epoch')\n",
    "plt.ylabel('Loss')\n",
    "plt.ylim([0, 0.7])\n",
    "plt.legend(loc='upper right')\n",
    "\n",
    "test_loss, test_acc = model.evaluate(x_test, y_test, verbose=2)"
   ]
  },
  {
   "cell_type": "markdown",
   "id": "2a9ec926",
   "metadata": {},
   "source": [
    "With the inspection of the loss graphs, we can see that our model does not overfit yet. But it has a tendency to overfit. We can say that our early stop is working good in our case. And we have trained our model without an overfitting problem."
   ]
  },
  {
   "cell_type": "markdown",
   "id": "ea3a245f",
   "metadata": {},
   "source": [
    "# Discussion and Conclusion\n",
    "\n",
    "In our task we have used ECG samples to create a Convolutional Neural Networks model to predict heart related diseases. Our target label had 5 different classes. With the dataset created by the samples of ECG images with the frequency of 125Hz is used to train our model. At the end of experiments conducted with different over and under sapmling methods, different layers, different filter sizes and different layer sizes, we have reached our best CNN model. We have built a model which is working with 0.9667 accuracy score in validation set.\n",
    "\n",
    "Our convolutional neural network model seems to be a good fit for the training set given. On the other hand, amount of synthetic data created with random over sampler is a lot, especially for Class 1 and Class 3. We are using low amount of data to reach 20.000 balance point. The results would be better if we had real data instead of the data that we have created to balance the feature targets. \n",
    "\n",
    "As conclusion, since this is a health related task, even 0.97 score is a big value. This algorithm cannot be used yet to detect heart related diseases. To improve the model, more data with the Classes 1, 2, 3 and 4 should be collected. Then this prediction task will have more success that we can use CNN in a health related task."
   ]
  }
 ],
 "metadata": {
  "kernelspec": {
   "display_name": "Python 3 (ipykernel)",
   "language": "python",
   "name": "python3"
  },
  "language_info": {
   "codemirror_mode": {
    "name": "ipython",
    "version": 3
   },
   "file_extension": ".py",
   "mimetype": "text/x-python",
   "name": "python",
   "nbconvert_exporter": "python",
   "pygments_lexer": "ipython3",
   "version": "3.8.12"
  }
 },
 "nbformat": 4,
 "nbformat_minor": 5
}
